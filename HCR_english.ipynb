{
  "nbformat": 4,
  "nbformat_minor": 0,
  "metadata": {
    "colab": {
      "name": "HCR_english.ipynb",
      "provenance": [],
      "authorship_tag": "ABX9TyOLuAtqDCYHIe1N1eLvvDHv",
      "include_colab_link": true
    },
    "kernelspec": {
      "name": "python3",
      "display_name": "Python 3"
    },
    "language_info": {
      "name": "python"
    }
  },
  "cells": [
    {
      "cell_type": "markdown",
      "metadata": {
        "id": "view-in-github",
        "colab_type": "text"
      },
      "source": [
        "<a href=\"https://colab.research.google.com/github/sneha-jha08/HCR-English/blob/main/HCR_english.ipynb\" target=\"_parent\"><img src=\"https://colab.research.google.com/assets/colab-badge.svg\" alt=\"Open In Colab\"/></a>"
      ]
    },
    {
      "cell_type": "markdown",
      "source": [
        "## Import the libraries\n",
        "\n"
      ],
      "metadata": {
        "id": "Z0V94ICwQ3LQ"
      }
    },
    {
      "cell_type": "code",
      "source": [
        "import numpy as np\n",
        "import pandas as pd\n",
        "import matplotlib.pyplot as plt\n",
        "import seaborn as sns\n",
        "import cv2 as cv\n",
        "from tqdm import tqdm\n",
        "import random\n",
        "import os\n",
        "\n",
        "from keras.models import Sequential\n",
        "from keras.layers import Dense, Flatten, Conv2D, MaxPool2D, Dropout, Activation\n",
        "from tensorflow.keras import optimizers\n",
        "from keras_preprocessing.image import ImageDataGenerator\n",
        "from keras.models import load_model"
      ],
      "metadata": {
        "id": "1jys2V-DRLUm"
      },
      "execution_count": 1,
      "outputs": []
    },
    {
      "cell_type": "markdown",
      "source": [
        "## Show a example of the data"
      ],
      "metadata": {
        "id": "FWufPROLRPl1"
      }
    },
    {
      "cell_type": "code",
      "source": [
        "img = cv.imread(\"/content/Code/english handwritten characters dataset/Img/img011-053.png\")\n",
        "plt.imshow(img)"
      ],
      "metadata": {
        "colab": {
          "base_uri": "https://localhost:8080/",
          "height": 286
        },
        "id": "G92WDvWLRXSq",
        "outputId": "9899eb0c-4835-424d-9f23-38dc01d61f92"
      },
      "execution_count": 2,
      "outputs": [
        {
          "output_type": "execute_result",
          "data": {
            "text/plain": [
              "<matplotlib.image.AxesImage at 0x7f3b6ed84090>"
            ]
          },
          "metadata": {},
          "execution_count": 2
        },
        {
          "output_type": "display_data",
          "data": {
            "text/plain": [
              "<Figure size 432x288 with 1 Axes>"
            ],
            "image/png": "[encoded data removed]"
          },
          "metadata": {
            "needs_background": "light"
          }
        }
      ]
    },
    {
      "cell_type": "markdown",
      "source": [
        "## Read the csv file, Print the first 5 rows"
      ],
      "metadata": {
        "id": "s6U6I4OgRaLR"
      }
    },
    {
      "cell_type": "code",
      "source": [
        "df = pd.read_csv(r'/content/Code/english handwritten characters dataset/english.csv')\n",
        "df.head()"
      ],
      "metadata": {
        "colab": {
          "base_uri": "https://localhost:8080/",
          "height": 206
        },
        "id": "YhywIcXNRcCo",
        "outputId": "da0d7aa3-059a-43eb-ddbf-f4292612244d"
      },
      "execution_count": 3,
      "outputs": [
        {
          "output_type": "execute_result",
          "data": {
            "text/plain": [
              "                image label\n",
              "0  Img/img001-001.png     0\n",
              "1  Img/img001-002.png     0\n",
              "2  Img/img001-003.png     0\n",
              "3  Img/img001-004.png     0\n",
              "4  Img/img001-005.png     0"
            ],
            "text/html": [
              "\n",
              "  <div id=\"df-bdc7ff9a-d17b-44e7-b360-f5f6e4114072\">\n",
              "    <div class=\"colab-df-container\">\n",
              "      <div>\n",
              "<style scoped>\n",
              "    .dataframe tbody tr th:only-of-type {\n",
              "        vertical-align: middle;\n",
              "    }\n",
              "\n",
              "    .dataframe tbody tr th {\n",
              "        vertical-align: top;\n",
              "    }\n",
              "\n",
              "    .dataframe thead th {\n",
              "        text-align: right;\n",
              "    }\n",
              "</style>\n",
              "<table border=\"1\" class=\"dataframe\">\n",
              "  <thead>\n",
              "    <tr style=\"text-align: right;\">\n",
              "      <th></th>\n",
              "      <th>image</th>\n",
              "      <th>label</th>\n",
              "    </tr>\n",
              "  </thead>\n",
              "  <tbody>\n",
              "    <tr>\n",
              "      <th>0</th>\n",
              "      <td>Img/img001-001.png</td>\n",
              "      <td>0</td>\n",
              "    </tr>\n",
              "    <tr>\n",
              "      <th>1</th>\n",
              "      <td>Img/img001-002.png</td>\n",
              "      <td>0</td>\n",
              "    </tr>\n",
              "    <tr>\n",
              "      <th>2</th>\n",
              "      <td>Img/img001-003.png</td>\n",
              "      <td>0</td>\n",
              "    </tr>\n",
              "    <tr>\n",
              "      <th>3</th>\n",
              "      <td>Img/img001-004.png</td>\n",
              "      <td>0</td>\n",
              "    </tr>\n",
              "    <tr>\n",
              "      <th>4</th>\n",
              "      <td>Img/img001-005.png</td>\n",
              "      <td>0</td>\n",
              "    </tr>\n",
              "  </tbody>\n",
              "</table>\n",
              "</div>\n",
              "      <button class=\"colab-df-convert\" onclick=\"convertToInteractive('df-bdc7ff9a-d17b-44e7-b360-f5f6e4114072')\"\n",
              "              title=\"Convert this dataframe to an interactive table.\"\n",
              "              style=\"display:none;\">\n",
              "        \n",
              "  <svg xmlns=\"http://www.w3.org/2000/svg\" height=\"24px\"viewBox=\"0 0 24 24\"\n",
              "       width=\"24px\">\n",
              "    <path d=\"M0 0h24v24H0V0z\" fill=\"none\"/>\n",
              "    <path d=\"M18.56 5.44l.94 2.06.94-2.06 2.06-.94-2.06-.94-.94-2.06-.94 2.06-2.06.94zm-11 1L8.5 8.5l.94-2.06 2.06-.94-2.06-.94L8.5 2.5l-.94 2.06-2.06.94zm10 10l.94 2.06.94-2.06 2.06-.94-2.06-.94-.94-2.06-.94 2.06-2.06.94z\"/><path d=\"M17.41 7.96l-1.37-1.37c-.4-.4-.92-.59-1.43-.59-.52 0-1.04.2-1.43.59L10.3 9.45l-7.72 7.72c-.78.78-.78 2.05 0 2.83L4 21.41c.39.39.9.59 1.41.59.51 0 1.02-.2 1.41-.59l7.78-7.78 2.81-2.81c.8-.78.8-2.07 0-2.86zM5.41 20L4 18.59l7.72-7.72 1.47 1.35L5.41 20z\"/>\n",
              "  </svg>\n",
              "      </button>\n",
              "      \n",
              "  <style>\n",
              "    .colab-df-container {\n",
              "      display:flex;\n",
              "      flex-wrap:wrap;\n",
              "      gap: 12px;\n",
              "    }\n",
              "\n",
              "    .colab-df-convert {\n",
              "      background-color: #E8F0FE;\n",
              "      border: none;\n",
              "      border-radius: 50%;\n",
              "      cursor: pointer;\n",
              "      display: none;\n",
              "      fill: #1967D2;\n",
              "      height: 32px;\n",
              "      padding: 0 0 0 0;\n",
              "      width: 32px;\n",
              "    }\n",
              "\n",
              "    .colab-df-convert:hover {\n",
              "      background-color: #E2EBFA;\n",
              "      box-shadow: 0px 1px 2px rgba(60, 64, 67, 0.3), 0px 1px 3px 1px rgba(60, 64, 67, 0.15);\n",
              "      fill: #174EA6;\n",
              "    }\n",
              "\n",
              "    [theme=dark] .colab-df-convert {\n",
              "      background-color: #3B4455;\n",
              "      fill: #D2E3FC;\n",
              "    }\n",
              "\n",
              "    [theme=dark] .colab-df-convert:hover {\n",
              "      background-color: #434B5C;\n",
              "      box-shadow: 0px 1px 3px 1px rgba(0, 0, 0, 0.15);\n",
              "      filter: drop-shadow(0px 1px 2px rgba(0, 0, 0, 0.3));\n",
              "      fill: #FFFFFF;\n",
              "    }\n",
              "  </style>\n",
              "\n",
              "      <script>\n",
              "        const buttonEl =\n",
              "          document.querySelector('#df-bdc7ff9a-d17b-44e7-b360-f5f6e4114072 button.colab-df-convert');\n",
              "        buttonEl.style.display =\n",
              "          google.colab.kernel.accessAllowed ? 'block' : 'none';\n",
              "\n",
              "        async function convertToInteractive(key) {\n",
              "          const element = document.querySelector('#df-bdc7ff9a-d17b-44e7-b360-f5f6e4114072');\n",
              "          const dataTable =\n",
              "            await google.colab.kernel.invokeFunction('convertToInteractive',\n",
              "                                                     [key], {});\n",
              "          if (!dataTable) return;\n",
              "\n",
              "          const docLinkHtml = 'Like what you see? Visit the ' +\n",
              "            '<a target=\"_blank\" href=https://colab.research.google.com/notebooks/data_table.ipynb>data table notebook</a>'\n",
              "            + ' to learn more about interactive tables.';\n",
              "          element.innerHTML = '';\n",
              "          dataTable['output_type'] = 'display_data';\n",
              "          await google.colab.output.renderOutput(dataTable, element);\n",
              "          const docLink = document.createElement('div');\n",
              "          docLink.innerHTML = docLinkHtml;\n",
              "          element.appendChild(docLink);\n",
              "        }\n",
              "      </script>\n",
              "    </div>\n",
              "  </div>\n",
              "  "
            ]
          },
          "metadata": {},
          "execution_count": 3
        }
      ]
    },
    {
      "cell_type": "markdown",
      "source": [
        "## Explore the classes"
      ],
      "metadata": {
        "id": "oVqkwxO-RfZq"
      }
    },
    {
      "cell_type": "code",
      "source": [
        "classes = df['label'].unique()\n",
        "print(f'\\nThe Classes:\\n {classes} ')"
      ],
      "metadata": {
        "colab": {
          "base_uri": "https://localhost:8080/"
        },
        "id": "Cdmid4C2RjkF",
        "outputId": "97a87293-e0bb-4999-9f0d-96575e9be02d"
      },
      "execution_count": 4,
      "outputs": [
        {
          "output_type": "stream",
          "name": "stdout",
          "text": [
            "\n",
            "The Classes:\n",
            " ['0' '1' '2' '3' '4' '5' '6' '7' '8' '9' 'A' 'B' 'C' 'D' 'E' 'F' 'G' 'H'\n",
            " 'I' 'J' 'K' 'L' 'M' 'N' 'O' 'P' 'Q' 'R' 'S' 'T' 'U' 'V' 'W' 'X' 'Y' 'Z'\n",
            " 'a' 'b' 'c' 'd' 'e' 'f' 'g' 'h' 'i' 'j' 'k' 'l' 'm' 'n' 'o' 'p' 'q' 'r'\n",
            " 's' 't' 'u' 'v' 'w' 'x' 'y' 'z'] \n"
          ]
        }
      ]
    },
    {
      "cell_type": "markdown",
      "source": [
        "## Read the images"
      ],
      "metadata": {
        "id": "gvsJpL_HRrO2"
      }
    },
    {
      "cell_type": "markdown",
      "source": [
        "### Define the data path"
      ],
      "metadata": {
        "id": "OV9nKRdaRv0i"
      }
    },
    {
      "cell_type": "code",
      "source": [
        "DATADIR = \"/content/Code/english handwritten characters dataset/\"   "
      ],
      "metadata": {
        "id": "lyea4VAlRsXU"
      },
      "execution_count": 5,
      "outputs": []
    },
    {
      "cell_type": "markdown",
      "source": [
        "### Read the csv file"
      ],
      "metadata": {
        "id": "MuTtev1qR_x1"
      }
    },
    {
      "cell_type": "code",
      "source": [
        "dataset = pd.read_csv(DATADIR + '/english.csv')"
      ],
      "metadata": {
        "id": "1rgv5M-TR4jA"
      },
      "execution_count": 6,
      "outputs": []
    },
    {
      "cell_type": "markdown",
      "source": [
        "### Get a 500 random values/rows"
      ],
      "metadata": {
        "id": "cvl6xyDjSEsq"
      }
    },
    {
      "cell_type": "code",
      "source": [
        "rand = random.sample(range(len(dataset)), 500)"
      ],
      "metadata": {
        "id": "IWYZPl9wSLJU"
      },
      "execution_count": 7,
      "outputs": []
    },
    {
      "cell_type": "markdown",
      "source": [
        "### Make the random 500 as a validation data"
      ],
      "metadata": {
        "id": "SWaw6LL_SMCU"
      }
    },
    {
      "cell_type": "code",
      "source": [
        "validation_set = pd.DataFrame(dataset.iloc[rand, :].values, columns=['image', 'label'])"
      ],
      "metadata": {
        "id": "9nyH7B9NSPxy"
      },
      "execution_count": 8,
      "outputs": []
    },
    {
      "cell_type": "markdown",
      "source": [
        "### Drop the 500 from the orignal data set"
      ],
      "metadata": {
        "id": "s26SPaAnSed5"
      }
    },
    {
      "cell_type": "code",
      "source": [
        "dataset.drop(rand, inplace=True)"
      ],
      "metadata": {
        "id": "hkwSYhYwSdED"
      },
      "execution_count": 9,
      "outputs": []
    },
    {
      "cell_type": "markdown",
      "source": [
        "### Get a 5 random rows/values from the validation set"
      ],
      "metadata": {
        "id": "LaQy4VFdScou"
      }
    },
    {
      "cell_type": "code",
      "source": [
        "rand = random.sample(range(len(validation_set)), 5)"
      ],
      "metadata": {
        "id": "r7anTVopScaK"
      },
      "execution_count": 10,
      "outputs": []
    },
    {
      "cell_type": "markdown",
      "source": [
        "### from the 5 random Create the test set "
      ],
      "metadata": {
        "id": "bu92UAlNScMo"
      }
    },
    {
      "cell_type": "code",
      "source": [
        "test_set = pd.DataFrame(validation_set.iloc[rand, :].values, columns=['image', 'label'])"
      ],
      "metadata": {
        "id": "NjEhXwCnSb-v"
      },
      "execution_count": 11,
      "outputs": []
    },
    {
      "cell_type": "markdown",
      "source": [
        "### Drop the 5 from the validation set"
      ],
      "metadata": {
        "id": "hUbRYPzkSbtm"
      }
    },
    {
      "cell_type": "code",
      "source": [
        "validation_set.drop(rand, inplace=True)"
      ],
      "metadata": {
        "id": "dCCpfvXjSt8j"
      },
      "execution_count": 12,
      "outputs": []
    },
    {
      "cell_type": "markdown",
      "source": [
        "### Show the validation set as a example"
      ],
      "metadata": {
        "id": "DKQYo_OjSuff"
      }
    },
    {
      "cell_type": "code",
      "source": [
        "validation_set"
      ],
      "metadata": {
        "colab": {
          "base_uri": "https://localhost:8080/",
          "height": 424
        },
        "id": "oWVH8MI_SwxR",
        "outputId": "53195a8f-c76b-48c3-dd3c-6084e9046465"
      },
      "execution_count": 13,
      "outputs": [
        {
          "output_type": "execute_result",
          "data": {
            "text/plain": [
              "                  image label\n",
              "0    Img/img017-030.png     G\n",
              "1    Img/img017-053.png     G\n",
              "2    Img/img020-014.png     J\n",
              "3    Img/img018-021.png     H\n",
              "4    Img/img035-027.png     Y\n",
              "..                  ...   ...\n",
              "495  Img/img047-001.png     k\n",
              "496  Img/img062-020.png     z\n",
              "497  Img/img034-032.png     X\n",
              "498  Img/img002-045.png     1\n",
              "499  Img/img031-042.png     U\n",
              "\n",
              "[495 rows x 2 columns]"
            ],
            "text/html": [
              "\n",
              "  <div id=\"df-9d8d922f-70c2-4b8d-9346-39017ba7570f\">\n",
              "    <div class=\"colab-df-container\">\n",
              "      <div>\n",
              "<style scoped>\n",
              "    .dataframe tbody tr th:only-of-type {\n",
              "        vertical-align: middle;\n",
              "    }\n",
              "\n",
              "    .dataframe tbody tr th {\n",
              "        vertical-align: top;\n",
              "    }\n",
              "\n",
              "    .dataframe thead th {\n",
              "        text-align: right;\n",
              "    }\n",
              "</style>\n",
              "<table border=\"1\" class=\"dataframe\">\n",
              "  <thead>\n",
              "    <tr style=\"text-align: right;\">\n",
              "      <th></th>\n",
              "      <th>image</th>\n",
              "      <th>label</th>\n",
              "    </tr>\n",
              "  </thead>\n",
              "  <tbody>\n",
              "    <tr>\n",
              "      <th>0</th>\n",
              "      <td>Img/img017-030.png</td>\n",
              "      <td>G</td>\n",
              "    </tr>\n",
              "    <tr>\n",
              "      <th>1</th>\n",
              "      <td>Img/img017-053.png</td>\n",
              "      <td>G</td>\n",
              "    </tr>\n",
              "    <tr>\n",
              "      <th>2</th>\n",
              "      <td>Img/img020-014.png</td>\n",
              "      <td>J</td>\n",
              "    </tr>\n",
              "    <tr>\n",
              "      <th>3</th>\n",
              "      <td>Img/img018-021.png</td>\n",
              "      <td>H</td>\n",
              "    </tr>\n",
              "    <tr>\n",
              "      <th>4</th>\n",
              "      <td>Img/img035-027.png</td>\n",
              "      <td>Y</td>\n",
              "    </tr>\n",
              "    <tr>\n",
              "      <th>...</th>\n",
              "      <td>...</td>\n",
              "      <td>...</td>\n",
              "    </tr>\n",
              "    <tr>\n",
              "      <th>495</th>\n",
              "      <td>Img/img047-001.png</td>\n",
              "      <td>k</td>\n",
              "    </tr>\n",
              "    <tr>\n",
              "      <th>496</th>\n",
              "      <td>Img/img062-020.png</td>\n",
              "      <td>z</td>\n",
              "    </tr>\n",
              "    <tr>\n",
              "      <th>497</th>\n",
              "      <td>Img/img034-032.png</td>\n",
              "      <td>X</td>\n",
              "    </tr>\n",
              "    <tr>\n",
              "      <th>498</th>\n",
              "      <td>Img/img002-045.png</td>\n",
              "      <td>1</td>\n",
              "    </tr>\n",
              "    <tr>\n",
              "      <th>499</th>\n",
              "      <td>Img/img031-042.png</td>\n",
              "      <td>U</td>\n",
              "    </tr>\n",
              "  </tbody>\n",
              "</table>\n",
              "<p>495 rows × 2 columns</p>\n",
              "</div>\n",
              "      <button class=\"colab-df-convert\" onclick=\"convertToInteractive('df-9d8d922f-70c2-4b8d-9346-39017ba7570f')\"\n",
              "              title=\"Convert this dataframe to an interactive table.\"\n",
              "              style=\"display:none;\">\n",
              "        \n",
              "  <svg xmlns=\"http://www.w3.org/2000/svg\" height=\"24px\"viewBox=\"0 0 24 24\"\n",
              "       width=\"24px\">\n",
              "    <path d=\"M0 0h24v24H0V0z\" fill=\"none\"/>\n",
              "    <path d=\"M18.56 5.44l.94 2.06.94-2.06 2.06-.94-2.06-.94-.94-2.06-.94 2.06-2.06.94zm-11 1L8.5 8.5l.94-2.06 2.06-.94-2.06-.94L8.5 2.5l-.94 2.06-2.06.94zm10 10l.94 2.06.94-2.06 2.06-.94-2.06-.94-.94-2.06-.94 2.06-2.06.94z\"/><path d=\"M17.41 7.96l-1.37-1.37c-.4-.4-.92-.59-1.43-.59-.52 0-1.04.2-1.43.59L10.3 9.45l-7.72 7.72c-.78.78-.78 2.05 0 2.83L4 21.41c.39.39.9.59 1.41.59.51 0 1.02-.2 1.41-.59l7.78-7.78 2.81-2.81c.8-.78.8-2.07 0-2.86zM5.41 20L4 18.59l7.72-7.72 1.47 1.35L5.41 20z\"/>\n",
              "  </svg>\n",
              "      </button>\n",
              "      \n",
              "  <style>\n",
              "    .colab-df-container {\n",
              "      display:flex;\n",
              "      flex-wrap:wrap;\n",
              "      gap: 12px;\n",
              "    }\n",
              "\n",
              "    .colab-df-convert {\n",
              "      background-color: #E8F0FE;\n",
              "      border: none;\n",
              "      border-radius: 50%;\n",
              "      cursor: pointer;\n",
              "      display: none;\n",
              "      fill: #1967D2;\n",
              "      height: 32px;\n",
              "      padding: 0 0 0 0;\n",
              "      width: 32px;\n",
              "    }\n",
              "\n",
              "    .colab-df-convert:hover {\n",
              "      background-color: #E2EBFA;\n",
              "      box-shadow: 0px 1px 2px rgba(60, 64, 67, 0.3), 0px 1px 3px 1px rgba(60, 64, 67, 0.15);\n",
              "      fill: #174EA6;\n",
              "    }\n",
              "\n",
              "    [theme=dark] .colab-df-convert {\n",
              "      background-color: #3B4455;\n",
              "      fill: #D2E3FC;\n",
              "    }\n",
              "\n",
              "    [theme=dark] .colab-df-convert:hover {\n",
              "      background-color: #434B5C;\n",
              "      box-shadow: 0px 1px 3px 1px rgba(0, 0, 0, 0.15);\n",
              "      filter: drop-shadow(0px 1px 2px rgba(0, 0, 0, 0.3));\n",
              "      fill: #FFFFFF;\n",
              "    }\n",
              "  </style>\n",
              "\n",
              "      <script>\n",
              "        const buttonEl =\n",
              "          document.querySelector('#df-9d8d922f-70c2-4b8d-9346-39017ba7570f button.colab-df-convert');\n",
              "        buttonEl.style.display =\n",
              "          google.colab.kernel.accessAllowed ? 'block' : 'none';\n",
              "\n",
              "        async function convertToInteractive(key) {\n",
              "          const element = document.querySelector('#df-9d8d922f-70c2-4b8d-9346-39017ba7570f');\n",
              "          const dataTable =\n",
              "            await google.colab.kernel.invokeFunction('convertToInteractive',\n",
              "                                                     [key], {});\n",
              "          if (!dataTable) return;\n",
              "\n",
              "          const docLinkHtml = 'Like what you see? Visit the ' +\n",
              "            '<a target=\"_blank\" href=https://colab.research.google.com/notebooks/data_table.ipynb>data table notebook</a>'\n",
              "            + ' to learn more about interactive tables.';\n",
              "          element.innerHTML = '';\n",
              "          dataTable['output_type'] = 'display_data';\n",
              "          await google.colab.output.renderOutput(dataTable, element);\n",
              "          const docLink = document.createElement('div');\n",
              "          docLink.innerHTML = docLinkHtml;\n",
              "          element.appendChild(docLink);\n",
              "        }\n",
              "      </script>\n",
              "    </div>\n",
              "  </div>\n",
              "  "
            ]
          },
          "metadata": {},
          "execution_count": 13
        }
      ]
    },
    {
      "cell_type": "code",
      "source": [
        "train_data_generator = ImageDataGenerator(rescale=1/255, shear_range=0.2, zoom_range=0.2)\n",
        "data_generator = ImageDataGenerator(rescale=1/255)\n",
        "training_data_frame = train_data_generator.flow_from_dataframe(dataframe=dataset, directory=DATADIR, x_col='image', y_col='label', \n",
        "                                                               target_size=(64, 64), class_mode='categorical')\n",
        "validation_data_frame = data_generator.flow_from_dataframe(dataframe=validation_set, directory=DATADIR, x_col='image', y_col='label', \n",
        "                                                           target_size=(64, 64), class_mode='categorical')\n",
        "test_data_frame = data_generator.flow_from_dataframe(dataframe=test_set, directory=DATADIR, x_col='image', y_col='label', \n",
        "                                                     target_size=(64, 64), class_mode='categorical', shuffle=False)"
      ],
      "metadata": {
        "colab": {
          "base_uri": "https://localhost:8080/"
        },
        "id": "NKoVM6kMTCHH",
        "outputId": "145000d8-7d13-4d74-aff6-b6322526c14a"
      },
      "execution_count": 14,
      "outputs": [
        {
          "output_type": "stream",
          "name": "stdout",
          "text": [
            "Found 2910 validated image filenames belonging to 62 classes.\n",
            "Found 495 validated image filenames belonging to 62 classes.\n",
            "Found 5 validated image filenames belonging to 5 classes.\n"
          ]
        }
      ]
    },
    {
      "cell_type": "markdown",
      "source": [
        "## Build the model"
      ],
      "metadata": {
        "id": "rXCcgNtSTBTU"
      }
    },
    {
      "cell_type": "code",
      "source": [
        "# Define the model\n",
        "model = Sequential()\n",
        "\n",
        "# Add first Convolutional Layer\n",
        "model.add(Conv2D(32, (3, 3), padding='same',\n",
        "                 input_shape=(64,64,3)))\n",
        "# Add a relu Activation \n",
        "model.add(Activation('relu'))\n",
        "# Add a second Convolutional Layer\n",
        "model.add(Conv2D(32, (3, 3)))\n",
        "# Add a relu Activation \n",
        "model.add(Activation('relu'))\n",
        "# Add a Max pooling layer\n",
        "model.add(MaxPool2D(pool_size=(2, 2)))\n",
        "# Add a Dropout layer\n",
        "model.add(Dropout(0.25))\n",
        "\n",
        "# Add third Convolutional Layer\n",
        "model.add(Conv2D(64, (3, 3), padding='same'))\n",
        "# Add a relu Activation \n",
        "model.add(Activation('relu'))\n",
        "# Add Fourth Convolutional Layer\n",
        "model.add(Conv2D(64, (3, 3)))\n",
        "# Add a relu Activation \n",
        "model.add(Activation('relu'))\n",
        "# Add a Max pooling layer\n",
        "model.add(MaxPool2D(pool_size=(2, 2)))\n",
        "# Add a Dropout Layer\n",
        "model.add(Dropout(0.25))\n",
        "\n",
        "# Add Fifth Convolutional Layer\n",
        "model.add(Conv2D(64, (3, 3), padding='same'))\n",
        "# Add a Activation Layer\n",
        "model.add(Activation('relu'))\n",
        "# Add a sixth Convolutional Layer\n",
        "model.add(Conv2D(64, (3, 3)))\n",
        "# Add a Activation Layer\n",
        "model.add(Activation('relu'))\n",
        "# Add a Max Pooling Layer\n",
        "model.add(MaxPool2D(pool_size=(2, 2)))\n",
        "# Add a Dropout Layer\n",
        "model.add(Dropout(0.25))\n",
        "\n",
        "# Add a Flatten Layer\n",
        "model.add(Flatten())\n",
        "# Add a Dense layer Layer\n",
        "model.add(Dense(512))\n",
        "# Add a Activation Layer\n",
        "model.add(Activation('relu'))\n",
        "# Add a Dropout Layer\n",
        "model.add(Dropout(0.5))\n",
        "# Add the Output Dense Layer\n",
        "model.add(Dense(62, activation='softmax'))\n",
        "\n",
        "# Compile the model\n",
        "model.compile(optimizers.RMSprop(lr=0.0001), loss=\"categorical_crossentropy\", metrics=[\"accuracy\"])\n"
      ],
      "metadata": {
        "colab": {
          "base_uri": "https://localhost:8080/"
        },
        "id": "7OnyX09sTIhl",
        "outputId": "3861ddfa-8a22-46f2-8d12-abe5d4208c06"
      },
      "execution_count": 15,
      "outputs": [
        {
          "output_type": "stream",
          "name": "stderr",
          "text": [
            "/usr/local/lib/python3.7/dist-packages/keras/optimizer_v2/rmsprop.py:130: UserWarning: The `lr` argument is deprecated, use `learning_rate` instead.\n",
            "  super(RMSprop, self).__init__(name, **kwargs)\n"
          ]
        }
      ]
    },
    {
      "cell_type": "markdown",
      "source": [
        "## Train/Fit the model"
      ],
      "metadata": {
        "id": "R2wjmrz-TRKy"
      }
    },
    {
      "cell_type": "code",
      "source": [
        "# Train the model for 200 epochs\n",
        "history = model.fit(training_data_frame, validation_data=validation_data_frame, epochs=200)"
      ],
      "metadata": {
        "colab": {
          "base_uri": "https://localhost:8080/"
        },
        "id": "RIkZoTFYTTcm",
        "outputId": "10041de5-22ad-4b3f-cec7-ce39b08d3c3a"
      },
      "execution_count": null,
      "outputs": [
        {
          "output_type": "stream",
          "name": "stdout",
          "text": [
            "Epoch 1/200\n",
            "91/91 [==============================] - 109s 1s/step - loss: 4.1290 - accuracy: 0.0158 - val_loss: 4.1288 - val_accuracy: 0.0101\n",
            "Epoch 2/200\n",
            "18/91 [====>.........................] - ETA: 1:17 - loss: 4.1270 - accuracy: 0.0104"
          ]
        }
      ]
    },
    {
      "cell_type": "markdown",
      "source": [
        "## Plot the result"
      ],
      "metadata": {
        "id": "I9BHuYhoTdZM"
      }
    },
    {
      "cell_type": "code",
      "source": [
        "acc = history.history['accuracy']\n",
        "val_acc = history.history['val_accuracy']\n",
        "loss = history.history['loss']\n",
        "val_loss = history.history['val_loss']\n",
        "\n",
        "epochs_range = range(500)\n",
        "\n",
        "plt.figure(figsize=(15, 15))\n",
        "plt.subplot(2, 2, 1)\n",
        "plt.plot(epochs_range, acc, label='Training Accuracy')\n",
        "plt.plot(epochs_range, val_acc, label='Validation Accuracy')\n",
        "plt.legend(loc='lower right')\n",
        "plt.title('Training and Validation Accuracy')\n",
        "\n",
        "plt.subplot(2, 2, 2)\n",
        "plt.plot(epochs_range, loss, label='Training Loss')\n",
        "plt.plot(epochs_range, val_loss, label='Validation Loss')\n",
        "plt.legend(loc='upper right')\n",
        "plt.title('Training and Validation Loss')\n",
        "plt.show()"
      ],
      "metadata": {
        "id": "gABDmIyjTiKj"
      },
      "execution_count": null,
      "outputs": []
    },
    {
      "cell_type": "markdown",
      "source": [
        "## Save the model"
      ],
      "metadata": {
        "id": "cUKJEornTmcN"
      }
    },
    {
      "cell_type": "code",
      "source": [
        "# Save the model as model.h5\n",
        "model.save('model.h5')\n",
        "# Load the model\n",
        "model = load_model('model.h5')\n",
        "# Print the class indices \n",
        "print(\"Prediction Dict: \", training_data_frame.class_indices)\n",
        "# Predict on the test data \n",
        "pred = model.predict(test_data_frame)\n",
        "# Create a class/labels dictionary\n",
        "classDict = {\n",
        "            0: \"0\", 1: \"1\", 2: \"2\", 3: \"3\", 4: \"4\", 5: \"5\", 6: \"6\", 7: \"7\", 8: \"8\", 9: \"9\", 10: \"A\",\n",
        "            11: \"B\", 12: \"C\", 13: \"D\", 14: \"E\", 15: \"F\", 16: \"G\", 17: \"H\", 18: \"I\", 19: \"J\", 20: \"K\",\n",
        "            21: \"L\", 22: \"M\", 23: \"N\", 24: \"O\", 25: \"P\", 26: \"Q\", 27: \"R\", 28: \"S\", 29: \"T\", 30: \"U\",\n",
        "            31: \"V\", 32: \"W\", 33: \"X\", 34: \"Y\", 35: \"Z\", 36: \"a\", 37: \"b\", 38: \"c\", 39: \"d\", 40: \"e\",\n",
        "            41: \"f\", 42: \"g\", 43: \"h\", 44: \"i\", 45: \"j\", 46: \"k\", 47: \"l\", 48: \"m\", 49: \"n\", 50: \"o\",\n",
        "            51: \"p\", 52: \"q\", 53: \"r\", 54: \"s\", 55: \"t\", 56: \"u\", 57: \"v\", 58: \"w\", 59: \"x\", 60: \"y\",\n",
        "            61: \"z\"}\n",
        "\n",
        "# Make a data frame that contains the probability for each class\n",
        "outputDf = pd.DataFrame(pred)\n",
        "# Get the index of the max probability from the output Data frame\n",
        "maxIndex = list(outputDf.idxmax(axis=1))\n",
        "# Print the max index\n",
        "print(\"Max index: \", maxIndex)\n",
        "# Make a loop in range the length of the test data (5)\n",
        "for i in range(len(test_set)):\n",
        "    # Read the image \n",
        "    image = cv.imread(DATADIR + '/' + test_set.at[i, 'image'])\n",
        "    # The title of the plot which is the predicted label\n",
        "    plt.title(classDict.get(maxIndex[i], \"error\"))\n",
        "    # Show the actual image\n",
        "    plt.imshow(image)\n",
        "    plt.show()\n"
      ],
      "metadata": {
        "id": "-dbWv0vqTlx2"
      },
      "execution_count": null,
      "outputs": []
    }
  ]
}